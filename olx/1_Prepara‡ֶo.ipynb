{
 "cells": [
  {
   "cell_type": "markdown",
   "id": "7351dfea-1150-4004-a71d-f20c4cb2b095",
   "metadata": {},
   "source": [
    "# 🧹LIMPEZA E TRANSFORMAÇÃO 🧹\n",
    "\n",
    "Esta seção destina-se à execução de transformações essenciais para a realização de uma análise precisa. Alguns passos realizados são:\n",
    "\n",
    "- Entedimento de campos nulos e possível preenchimento \n",
    "- Seleção e Validação de dados\n",
    "- Classificação e Reclassificação de categorias"
   ]
  },
  {
   "cell_type": "code",
   "execution_count": 1,
   "id": "47ac3501-000b-485c-bbd1-50a92a38bb84",
   "metadata": {},
   "outputs": [],
   "source": [
    "!pip install -r requirements.txt\n",
    "import customFunctions as cF\n",
    "import pandas as pd\n",
    "import numpy as np\n",
    "import matplotlib.pyplot as plt\n",
    "import seaborn as sns\n",
    "import re\n",
    "import requests\n",
    "import json\n",
    "import time\n",
    "import spacy\n",
    "from spacy.lang.pt.examples import sentences\n",
    "from unidecode import unidecode"
   ]
  },
  {
   "cell_type": "code",
   "execution_count": 2,
   "id": "5a6ce254-5396-4e88-b24c-976920abf9c8",
   "metadata": {},
   "outputs": [],
   "source": [
    "%matplotlib inline"
   ]
  },
  {
   "cell_type": "code",
   "execution_count": 3,
   "id": "8bc27607-c478-4748-83b6-377113a3c436",
   "metadata": {},
   "outputs": [],
   "source": [
    "pd.set_option('display.max_columns' ,None) "
   ]
  },
  {
   "cell_type": "code",
   "execution_count": 4,
   "id": "63b911c9-db41-44d6-b492-0566d12981b9",
   "metadata": {},
   "outputs": [],
   "source": [
    "listings = pd.read_csv('./listings.csv/listings.csv')"
   ]
  },
  {
   "cell_type": "code",
   "execution_count": 5,
   "id": "e6ec4f2d-329c-4d6e-a0f5-637716de4f61",
   "metadata": {},
   "outputs": [
    {
     "name": "stdout",
     "output_type": "stream",
     "text": [
      "<class 'pandas.core.frame.DataFrame'>\n",
      "RangeIndex: 242625 entries, 0 to 242624\n",
      "Data columns (total 19 columns):\n",
      " #   Column                Non-Null Count   Dtype \n",
      "---  ------                --------------   ----- \n",
      " 0   advertiser_id         242625 non-null  object\n",
      " 1   portal                242625 non-null  object\n",
      " 2   bedrooms              242625 non-null  int64 \n",
      " 3   suites                242625 non-null  int64 \n",
      " 4   parking_spaces        242625 non-null  int64 \n",
      " 5   unit_type             242625 non-null  object\n",
      " 6   year_delivered_at     11654 non-null   object\n",
      " 7   display_address_type  242625 non-null  object\n",
      " 8   city                  242625 non-null  object\n",
      " 9   state                 242625 non-null  object\n",
      " 10  neighborhood          242625 non-null  object\n",
      " 11  street                228594 non-null  object\n",
      " 12  CEP                   229108 non-null  object\n",
      " 13  usable_areas          242625 non-null  int64 \n",
      " 14  created_date          242625 non-null  object\n",
      " 15  snapshot_date         242625 non-null  object\n",
      " 16  listing_id            242625 non-null  object\n",
      " 17  street_number         160337 non-null  object\n",
      " 18  price                 242625 non-null  int64 \n",
      "dtypes: int64(5), object(14)\n",
      "memory usage: 35.2+ MB\n"
     ]
    }
   ],
   "source": [
    "# Primeira impressão da base\n",
    "listings.info()"
   ]
  },
  {
   "cell_type": "markdown",
   "id": "c19e0333-e5ec-4869-a5fd-c3fac8da14fb",
   "metadata": {},
   "source": [
    "## CAMPOS NULOS 🗋\n",
    "Campos que provavelmente precisarão de algum tipo de tratamento/atenção para realização de cálculos\n",
    "> Apenas o _\"year_delivered_at\"_ não é relativo ao endereço. Pode ser um campo interessante de ser analisado na próxima seção\n"
   ]
  },
  {
   "cell_type": "code",
   "execution_count": 6,
   "id": "59518ea6-f1c0-40b8-acfe-0bafecf532f6",
   "metadata": {},
   "outputs": [
    {
     "data": {
      "text/plain": [
       "year_delivered_at    230971\n",
       "street                14031\n",
       "CEP                   13517\n",
       "street_number         82288\n",
       "dtype: int64"
      ]
     },
     "execution_count": 6,
     "metadata": {},
     "output_type": "execute_result"
    }
   ],
   "source": [
    "nulos = listings.isnull().sum()\n",
    "nulos.loc[nulos>0]"
   ]
  },
  {
   "cell_type": "markdown",
   "id": "1b493c3f-8ae1-49b1-8d84-3676abdec3ff",
   "metadata": {},
   "source": [
    "## SELEÇAO DE DADOS 🔎\n",
    "  \n",
    "Como o objetivo da análise pressupõe uma análise de performance é preciso selecionar/transformar dados que sejam comparáveis.</br>\n",
    "> Sendo a quantidade de leads a ser analisada referente ao mês de Maio/2019, anúncios criados dentro deste mês tiveram menos tempo de exposição do que os criados anteriormente.</br>\n",
    "> Assim, apenas a performance de anúncios criados antes de Maio/2019 são comparáveis. \n",
    "\n",
    "\n",
    "_Mesmo com a criação de uma medida **leads/dia** anúncios com menos dias do que 31 dias de exibição seriam impactados e portanto não comparáveis_"
   ]
  },
  {
   "cell_type": "code",
   "execution_count": 7,
   "id": "f67da4ae-cccc-41fb-bdcd-a2f37c547b16",
   "metadata": {},
   "outputs": [
    {
     "data": {
      "text/plain": [
       "(212122, 20)"
      ]
     },
     "execution_count": 7,
     "metadata": {},
     "output_type": "execute_result"
    }
   ],
   "source": [
    "# Formatar campos de datas e criar tempo de ativo do anúncio\n",
    "listings['created_date'] = pd.to_datetime(listings['created_date'], format='%Y-%m-%d %H:%M:%S')\n",
    "listings['snapshot_date'] = pd.to_datetime(listings['snapshot_date'])\n",
    "listings['active_days'] = ( (listings['snapshot_date'].dt.date)  - (listings['created_date'].dt.date) ).dt.days + 1\n",
    "\n",
    "# Filtrar dataframe de análise \n",
    "listings = listings.query('active_days > 31').copy()\n",
    "\n",
    "# Sanity Check \n",
    "listings.shape"
   ]
  },
  {
   "cell_type": "markdown",
   "id": "1daac461-254c-49bf-a636-0c164d7eab7f",
   "metadata": {},
   "source": [
    "## CEP 🏡\n",
    "Os valores de cep são padronizados, portanto os registros que não seguirem tal padrão podem não entregar a informação pretendida, acarretando em possíveis dúvidas e maior número de  _**leads**_. Dessa forma, os registros que não tiverem um formato e valor válido de CEP serão considerados não preenchidos."
   ]
  },
  {
   "cell_type": "code",
   "execution_count": 8,
   "id": "e171966f-db79-4a90-9cd2-423ce1009b4a",
   "metadata": {},
   "outputs": [
    {
     "data": {
      "text/html": [
       "<div>\n",
       "<style scoped>\n",
       "    .dataframe tbody tr th:only-of-type {\n",
       "        vertical-align: middle;\n",
       "    }\n",
       "\n",
       "    .dataframe tbody tr th {\n",
       "        vertical-align: top;\n",
       "    }\n",
       "\n",
       "    .dataframe thead th {\n",
       "        text-align: right;\n",
       "    }\n",
       "</style>\n",
       "<table border=\"1\" class=\"dataframe\">\n",
       "  <thead>\n",
       "    <tr style=\"text-align: right;\">\n",
       "      <th></th>\n",
       "      <th>CEP</th>\n",
       "      <th>cep_char</th>\n",
       "    </tr>\n",
       "  </thead>\n",
       "  <tbody>\n",
       "    <tr>\n",
       "      <th>0</th>\n",
       "      <td>9090640,0</td>\n",
       "      <td>9.0</td>\n",
       "    </tr>\n",
       "    <tr>\n",
       "      <th>1</th>\n",
       "      <td>9850305,0</td>\n",
       "      <td>9.0</td>\n",
       "    </tr>\n",
       "    <tr>\n",
       "      <th>3</th>\n",
       "      <td>9715140,0</td>\n",
       "      <td>9.0</td>\n",
       "    </tr>\n",
       "    <tr>\n",
       "      <th>4</th>\n",
       "      <td>9041320,0</td>\n",
       "      <td>9.0</td>\n",
       "    </tr>\n",
       "    <tr>\n",
       "      <th>5</th>\n",
       "      <td>9715140,0</td>\n",
       "      <td>9.0</td>\n",
       "    </tr>\n",
       "  </tbody>\n",
       "</table>\n",
       "</div>"
      ],
      "text/plain": [
       "         CEP  cep_char\n",
       "0  9090640,0       9.0\n",
       "1  9850305,0       9.0\n",
       "3  9715140,0       9.0\n",
       "4  9041320,0       9.0\n",
       "5  9715140,0       9.0"
      ]
     },
     "execution_count": 8,
     "metadata": {},
     "output_type": "execute_result"
    }
   ],
   "source": [
    "# Criar uma coluna com o número de caracteres presente na coluna de CEP\n",
    "listings['cep_char'] = listings['CEP'].map(lambda x: None if x is np.nan else len(x))\n",
    "\n",
    "# Novo df + Sanity check\n",
    "cep_values = listings[['CEP', 'cep_char']]\n",
    "cep_values = cep_values[~cep_values['CEP'].isnull()].copy()\n",
    "cep_values.head()"
   ]
  },
  {
   "cell_type": "code",
   "execution_count": 9,
   "id": "59935507-06cd-40ff-8e9e-6d616843c4c9",
   "metadata": {},
   "outputs": [],
   "source": [
    "# Contar ocorrência por CEP em um dataframe \n",
    "cep_values = cep_values.groupby('CEP').agg({\"CEP\": \"count\", \"cep_char\": [\"max\"]})\n",
    "cep_values.columns = [f'{tupla[0]}_{tupla[1]}' for tupla in cep_values.columns]"
   ]
  },
  {
   "cell_type": "code",
   "execution_count": 10,
   "id": "cace8f52-d9c6-4f4c-a171-40209ec66e3a",
   "metadata": {},
   "outputs": [
    {
     "data": {
      "text/html": [
       "<div>\n",
       "<style scoped>\n",
       "    .dataframe tbody tr th:only-of-type {\n",
       "        vertical-align: middle;\n",
       "    }\n",
       "\n",
       "    .dataframe tbody tr th {\n",
       "        vertical-align: top;\n",
       "    }\n",
       "\n",
       "    .dataframe thead th {\n",
       "        text-align: right;\n",
       "    }\n",
       "</style>\n",
       "<table border=\"1\" class=\"dataframe\">\n",
       "  <thead>\n",
       "    <tr style=\"text-align: right;\">\n",
       "      <th>cep_char_max</th>\n",
       "      <th>3.0</th>\n",
       "      <th>6.0</th>\n",
       "      <th>7.0</th>\n",
       "      <th>8.0</th>\n",
       "      <th>9.0</th>\n",
       "      <th>10.0</th>\n",
       "    </tr>\n",
       "    <tr>\n",
       "      <th>ranking_index</th>\n",
       "      <th></th>\n",
       "      <th></th>\n",
       "      <th></th>\n",
       "      <th></th>\n",
       "      <th></th>\n",
       "      <th></th>\n",
       "    </tr>\n",
       "  </thead>\n",
       "  <tbody>\n",
       "    <tr>\n",
       "      <th>1.0</th>\n",
       "      <td>0,0</td>\n",
       "      <td>9120,0</td>\n",
       "      <td>96860,0</td>\n",
       "      <td>972515,0</td>\n",
       "      <td>9895400,0</td>\n",
       "      <td>90202700,0</td>\n",
       "    </tr>\n",
       "    <tr>\n",
       "      <th>2.0</th>\n",
       "      <td>1,0</td>\n",
       "      <td>9280,0</td>\n",
       "      <td>NaN</td>\n",
       "      <td>930590,0</td>\n",
       "      <td>9080320,0</td>\n",
       "      <td>97211000,0</td>\n",
       "    </tr>\n",
       "    <tr>\n",
       "      <th>3.0</th>\n",
       "      <td>NaN</td>\n",
       "      <td>9220,0</td>\n",
       "      <td>NaN</td>\n",
       "      <td>954118,0</td>\n",
       "      <td>9060050,0</td>\n",
       "      <td>23647061,0</td>\n",
       "    </tr>\n",
       "    <tr>\n",
       "      <th>4.0</th>\n",
       "      <td>NaN</td>\n",
       "      <td>9291,0</td>\n",
       "      <td>NaN</td>\n",
       "      <td>958030,0</td>\n",
       "      <td>9715140,0</td>\n",
       "      <td>12954850,0</td>\n",
       "    </tr>\n",
       "    <tr>\n",
       "      <th>5.0</th>\n",
       "      <td>NaN</td>\n",
       "      <td>9190,0</td>\n",
       "      <td>NaN</td>\n",
       "      <td>NaN</td>\n",
       "      <td>9070250,0</td>\n",
       "      <td>13800001,0</td>\n",
       "    </tr>\n",
       "  </tbody>\n",
       "</table>\n",
       "</div>"
      ],
      "text/plain": [
       "cep_char_max  3.0     6.0      7.0       8.0        9.0         10.0\n",
       "ranking_index                                                       \n",
       "1.0            0,0  9120,0  96860,0  972515,0  9895400,0  90202700,0\n",
       "2.0            1,0  9280,0      NaN  930590,0  9080320,0  97211000,0\n",
       "3.0            NaN  9220,0      NaN  954118,0  9060050,0  23647061,0\n",
       "4.0            NaN  9291,0      NaN  958030,0  9715140,0  12954850,0\n",
       "5.0            NaN  9190,0      NaN       NaN  9070250,0  13800001,0"
      ]
     },
     "execution_count": 10,
     "metadata": {},
     "output_type": "execute_result"
    }
   ],
   "source": [
    "# Agregar CEP´s por quantidade de caracteres e rankear por número de registros\n",
    "cep_p_char = cep_values.groupby('cep_char_max')['CEP_count']\n",
    "cep_values['ranking_index'] = cep_p_char.rank(method='first', ascending =False)\n",
    "cep_values.reset_index(inplace=True)\n",
    "\n",
    "#Criar tabela com os 5 cep´s mais frequentes para cada quantidade de caracteres\n",
    "cep_values.pivot(index='ranking_index', columns='cep_char_max', values = 'CEP').head()"
   ]
  },
  {
   "cell_type": "markdown",
   "id": "37ba0934-e622-4148-b540-12ec35b02ca9",
   "metadata": {},
   "source": [
    "### Takeaways\n",
    "\n",
    "> Os ceps de ruas têm 8 dígitos, no entanto uma região pode ser identificada com apenas 5. </br>\n",
    "> Ignorando a vírgula presente em todos os registros, aparentemente:\n",
    "> - campos com 10 caracteres possuem um 0 a mais.\n",
    "> - campos com 8 caractereres possum um 0 a menos.\n",
    "> - campos com 6 e 7 caracteres podem se referir a uma região \n",
    "\n",
    "_Uma vez que para o endereço ser considerado completo a informação deve ser a mais precisa possível, serão desconsiderados os CEPs referentes a uma região (com menos de 8 dígitos)._"
   ]
  },
  {
   "cell_type": "code",
   "execution_count": 11,
   "id": "ef7a71de-d90a-459b-bd53-37d19f43f0ca",
   "metadata": {},
   "outputs": [],
   "source": [
    "# Função personalizada que formata o campo de CEP no padrão nacional\n",
    "listings_complete = listings.copy()\n",
    "listings = cF.prettyCEP(listings,'CEP', 'CEP_adj').copy()\n",
    "\n",
    "# Cria um novo df apenas com CEPS que podem se referir a uma rua específica\n",
    "ceps_validos = listings[listings['cep_char']>=8]"
   ]
  },
  {
   "cell_type": "markdown",
   "id": "621d99c8-4cf4-4a55-840e-e666631586ea",
   "metadata": {},
   "source": [
    "### Enriquecimento da Base de Dados\n",
    "> Obtenção de dados externos para validação dos ceps cadastrados em anúncios. </br>\n",
    "> A verificação de CEP´s torna a análise mais precisa por assegurar que não há divergência no endereço cadastrado.</br>\n",
    "> Endereços inconsistentes podem gerar dúvidas e _**leads**_.\n",
    "\n",
    "_Os dados referentes ao endereçamento de cada CEP foram obtidos por meio da API **[AwesomeAPI](https://docs.awesomeapi.com.br/)**_"
   ]
  },
  {
   "cell_type": "code",
   "execution_count": 12,
   "id": "4f2038ba-ecc3-4eb7-96c5-4ff1cbad8e1d",
   "metadata": {},
   "outputs": [],
   "source": [
    "# Armazena os valores únicos de cep a serem consultados\n",
    "lista_cep = [cep for cep in ceps_validos['CEP_adj'].unique()]\n",
    "\n",
    "# Cria um dataframe com a e mesma estrtura da resposta recebida da API de CEP\n",
    "CEP_validation = pd.DataFrame( {'CEP': lista_cep,\n",
    "                                'cep': '',\n",
    "                                'address_type': '',\n",
    "                                'address_name': '',\n",
    "                                'address': '',\n",
    "                                'state': '',\n",
    "                                'district': '',\n",
    "                                'lat': '',\n",
    "                                'lng': '',\n",
    "                                'city': '',\n",
    "                                'city_ibge': '',\n",
    "                                'ddd': ''})"
   ]
  },
  {
   "cell_type": "code",
   "execution_count": 13,
   "id": "33d56761-7e5f-4da6-9f55-f54702f5a69d",
   "metadata": {},
   "outputs": [],
   "source": [
    "# Função personalizada para obtenção dos dados completos do endereço com base no CEP\n",
    "def checkCEP(row):\n",
    "    cep_code = row\n",
    "    url = f'https://cep.awesomeapi.com.br/json/{cep_code}'\n",
    "    r = requests.get(url)\n",
    "    try:\n",
    "        response = r.json()\n",
    "    except:\n",
    "        response = \"ERRO\"\n",
    "    for header in response.keys():\n",
    "        CEP_validation.loc[ CEP_validation['CEP'] == row, f'{header}'] = response[f'{header}']\n",
    "        time.sleep(2)"
   ]
  },
  {
   "cell_type": "markdown",
   "id": "66effebf-7fe0-4213-b964-096b43167469",
   "metadata": {},
   "source": [
    "_Para agilizar o processo, os dados foram armazenados em um arquivo csv e serão consumidos deste_"
   ]
  },
  {
   "cell_type": "code",
   "execution_count": 14,
   "id": "032f298a-d1e7-490a-a997-3035d5e1c0bd",
   "metadata": {},
   "outputs": [],
   "source": [
    "#CEP_validation = CEP_validation['CEP'].map(checkCEP)\n",
    "#CEP_validation.to_csv('CEP_validation.csv', index=False)\n",
    "CEP_validation = pd.read_csv('./CEP_validation.csv', sep =\",\",dtype=str)\n",
    "CEP_validation.columns = [f'api_{col}' for col in CEP_validation.columns]"
   ]
  },
  {
   "cell_type": "code",
   "execution_count": 15,
   "id": "aca075fd-660b-4400-90bb-e6a18e76b537",
   "metadata": {},
   "outputs": [],
   "source": [
    "# Consolida a base original com a obtida\n",
    "listings = pd.merge(listings, CEP_validation, left_on=\"CEP_adj\", right_on=\"api_CEP\", how =\"left\")"
   ]
  },
  {
   "cell_type": "code",
   "execution_count": 16,
   "id": "98265288-c413-4a22-901b-ab40ec7d0903",
   "metadata": {},
   "outputs": [
    {
     "data": {
      "text/plain": [
       "(6840, 38)"
      ]
     },
     "execution_count": 16,
     "metadata": {},
     "output_type": "execute_result"
    }
   ],
   "source": [
    "# Registra se o endereço cadastrado diverge do endereço referente ao CEP\n",
    "listings['api_validation'] = (listings['street'] == listings['api_address'])\n",
    "\n",
    "# Cria filtros para selecionar registros de endereços até então divergentes e que possam ser comparados de forma mais precisa\n",
    "no_type = listings['api_address_type'].isnull()\n",
    "no_street = listings['street'].isnull()\n",
    "no_address = listings['api_address_name'].isnull()\n",
    "validation = listings['api_validation']==False\n",
    "\n",
    "# Novo df filtrado \n",
    "CEP_validation = listings[\n",
    "                    (~no_type)\n",
    "                    &(~no_street)\n",
    "                    &(~no_address)\n",
    "                    &(validation)\n",
    "                ].copy()\n",
    "\n",
    "CEP_validation.shape"
   ]
  },
  {
   "cell_type": "code",
   "execution_count": 17,
   "id": "bb735104-f392-41bc-b7d3-24d2dc8a9c2c",
   "metadata": {},
   "outputs": [],
   "source": [
    "# Formata os campos de endereço a serem comparados\n",
    "CEP_validation['street'] = CEP_validation[['api_address_type', 'street' ]].apply(cF.PreparaCEP, axis=1)                                                                        \n",
    "CEP_validation['api_address_name'] = CEP_validation['api_address_name'].map(lambda x: re.sub('[0-9]','', unidecode(x.upper())))"
   ]
  },
  {
   "cell_type": "code",
   "execution_count": 18,
   "id": "22ee8f37-2c5a-449a-ac64-ed0ba702c73b",
   "metadata": {},
   "outputs": [],
   "source": [
    "# Realiza o download e carrega o modelo padrão do pacote\n",
    "nlp = spacy.load(\"pt_core_news_sm\")"
   ]
  },
  {
   "cell_type": "code",
   "execution_count": 19,
   "id": "ed5e62b5-f166-4771-9ea8-5412bc8bb0eb",
   "metadata": {},
   "outputs": [],
   "source": [
    "def getWhatMatters(column,lista):\n",
    "    \"\"\"Compila em uma lista, palavras de um vetor classificadas como 'nome próprio'ou 'substantivo' ou'verbo', mas não 'stopword'\"\"\"\n",
    "    for doc in nlp.pipe(column.values):\n",
    "        lista.append(\n",
    "            [token.text for token in doc if ( (\n",
    "                (token.pos_ == \"PROPN\") | (token.pos_ == \"NOUN\") | (token.pos_ == \"VERB\") ) \n",
    "                & (token.is_stop == False)) \n",
    "            ])\n",
    "    return lista"
   ]
  },
  {
   "cell_type": "code",
   "execution_count": 20,
   "id": "a8cca43f-072d-401a-ba28-a1cab2682bfe",
   "metadata": {},
   "outputs": [
    {
     "name": "stderr",
     "output_type": "stream",
     "text": [
      "<ipython-input-20-2d2cf3cd194c>:11: UserWarning: [W007] The model you're using has no word vectors loaded, so the result of the Doc.similarity method will be based on the tagger, parser and NER, which may not give useful similarity judgements. This may happen if you're using one of the small models, e.g. `en_core_web_sm`, which don't ship with word vectors and only use context-sensitive tensors. You can always add your own word vectors, or use one of the larger models instead if available.\n",
      "  nlp(\" \".join(x[0])).similarity(\n",
      "<ipython-input-20-2d2cf3cd194c>:11: UserWarning: [W008] Evaluating Doc.similarity based on empty vectors.\n",
      "  nlp(\" \".join(x[0])).similarity(\n"
     ]
    }
   ],
   "source": [
    "# Cria listas para receber a lista de palavras selecionadas\n",
    "original, enriched = list(), list()\n",
    "\n",
    "# Seleciona e armazena palavras do endereço cadastrado  \n",
    "CEP_validation['street2'] = getWhatMatters(CEP_validation['street'], original)\n",
    "# Seleciona e armazena palavras do endereço referente ao CEP cadastrado\n",
    "CEP_validation['api_address_2'] = getWhatMatters(CEP_validation['api_address_name'], enriched)\n",
    "\n",
    "#Calcula a similaridade dos dois conjuntos anteriores\n",
    "CEP_validation['similarity'] = CEP_validation[['street2','api_address_2']].apply(lambda x: \n",
    "                                                                                 nlp(\" \".join(x[0])).similarity(\n",
    "                                                                                     nlp(\" \".join(x[1]))),\n",
    "                                                                                 axis=1)\n",
    "\n",
    "\n",
    "# Como a ideia é identificar se existem erros pequenos, como de digitação e nãos semânticos, utilizou-se o modelo \"small\".\n",
    "# Este modelo não pretende identificar sentidos de contexto. Por isso o \"UserWarning\" abaixo.\n",
    "# Os vetores vazios referidos são anúncios com CEP e sem Nome de rua"
   ]
  },
  {
   "cell_type": "code",
   "execution_count": 21,
   "id": "bed96656-2a59-44a4-80e6-c94138538543",
   "metadata": {},
   "outputs": [],
   "source": [
    "## Atualiza registro de convergência entre endereço de Rua e CEP\n",
    "CEP_validation['api_validation'] = CEP_validation['street2'] == CEP_validation['api_address_2']"
   ]
  },
  {
   "cell_type": "code",
   "execution_count": 22,
   "id": "1c8a2e39-26de-4736-bfcb-61fbdb7e8179",
   "metadata": {},
   "outputs": [
    {
     "data": {
      "text/html": [
       "<style type=\"text/css\">\n",
       "#T_ea0ad_row5_col0, #T_ea0ad_row5_col1, #T_ea0ad_row5_col2, #T_ea0ad_row5_col3 {\n",
       "  background: red;\n",
       "}\n",
       "</style>\n",
       "<table id=\"T_ea0ad_\">\n",
       "  <thead>\n",
       "    <tr>\n",
       "      <th class=\"blank level0\" >&nbsp;</th>\n",
       "      <th class=\"col_heading level0 col0\" >index</th>\n",
       "      <th class=\"col_heading level0 col1\" >street</th>\n",
       "      <th class=\"col_heading level0 col2\" >api_address_name</th>\n",
       "      <th class=\"col_heading level0 col3\" >similarity</th>\n",
       "    </tr>\n",
       "  </thead>\n",
       "  <tbody>\n",
       "    <tr>\n",
       "      <th id=\"T_ea0ad_level0_row0\" class=\"row_heading level0 row0\" >0</th>\n",
       "      <td id=\"T_ea0ad_row0_col0\" class=\"data row0 col0\" >186221</td>\n",
       "      <td id=\"T_ea0ad_row0_col1\" class=\"data row0 col1\" > HELENA APARECIDA SECOL NOVA PETROPOLIS SAO BERNARDO DO CAMPO SP</td>\n",
       "      <td id=\"T_ea0ad_row0_col2\" class=\"data row0 col2\" >HELENA APARECIDA SECOL</td>\n",
       "      <td id=\"T_ea0ad_row0_col3\" class=\"data row0 col3\" >0.821203</td>\n",
       "    </tr>\n",
       "    <tr>\n",
       "      <th id=\"T_ea0ad_level0_row1\" class=\"row_heading level0 row1\" >1</th>\n",
       "      <td id=\"T_ea0ad_row1_col0\" class=\"data row1 col0\" >49165</td>\n",
       "      <td id=\"T_ea0ad_row1_col1\" class=\"data row1 col1\" > ALDINO PINOTI</td>\n",
       "      <td id=\"T_ea0ad_row1_col2\" class=\"data row1 col2\" >ALDINO PINOTTI</td>\n",
       "      <td id=\"T_ea0ad_row1_col3\" class=\"data row1 col3\" >0.821238</td>\n",
       "    </tr>\n",
       "    <tr>\n",
       "      <th id=\"T_ea0ad_level0_row2\" class=\"row_heading level0 row2\" >2</th>\n",
       "      <td id=\"T_ea0ad_row2_col0\" class=\"data row2 col0\" >131983</td>\n",
       "      <td id=\"T_ea0ad_row2_col1\" class=\"data row2 col1\" > ALDINO PINOTI</td>\n",
       "      <td id=\"T_ea0ad_row2_col2\" class=\"data row2 col2\" >ALDINO PINOTTI</td>\n",
       "      <td id=\"T_ea0ad_row2_col3\" class=\"data row2 col3\" >0.821238</td>\n",
       "    </tr>\n",
       "    <tr>\n",
       "      <th id=\"T_ea0ad_level0_row3\" class=\"row_heading level0 row3\" >3</th>\n",
       "      <td id=\"T_ea0ad_row3_col0\" class=\"data row3 col0\" >172145</td>\n",
       "      <td id=\"T_ea0ad_row3_col1\" class=\"data row3 col1\" > ALDINO PINOTI</td>\n",
       "      <td id=\"T_ea0ad_row3_col2\" class=\"data row3 col2\" >ALDINO PINOTTI</td>\n",
       "      <td id=\"T_ea0ad_row3_col3\" class=\"data row3 col3\" >0.821238</td>\n",
       "    </tr>\n",
       "    <tr>\n",
       "      <th id=\"T_ea0ad_level0_row4\" class=\"row_heading level0 row4\" >4</th>\n",
       "      <td id=\"T_ea0ad_row4_col0\" class=\"data row4 col0\" >154244</td>\n",
       "      <td id=\"T_ea0ad_row4_col1\" class=\"data row4 col1\" > ALDINO PINOTI</td>\n",
       "      <td id=\"T_ea0ad_row4_col2\" class=\"data row4 col2\" >ALDINO PINOTTI</td>\n",
       "      <td id=\"T_ea0ad_row4_col3\" class=\"data row4 col3\" >0.821238</td>\n",
       "    </tr>\n",
       "    <tr>\n",
       "      <th id=\"T_ea0ad_level0_row5\" class=\"row_heading level0 row5\" >5</th>\n",
       "      <td id=\"T_ea0ad_row5_col0\" class=\"data row5 col0\" >82903</td>\n",
       "      <td id=\"T_ea0ad_row5_col1\" class=\"data row5 col1\" >RUA SANTO ANDRE</td>\n",
       "      <td id=\"T_ea0ad_row5_col2\" class=\"data row5 col2\" >FARIA LIMA</td>\n",
       "      <td id=\"T_ea0ad_row5_col3\" class=\"data row5 col3\" >0.820694</td>\n",
       "    </tr>\n",
       "    <tr>\n",
       "      <th id=\"T_ea0ad_level0_row6\" class=\"row_heading level0 row6\" >6</th>\n",
       "      <td id=\"T_ea0ad_row6_col0\" class=\"data row6 col0\" >99195</td>\n",
       "      <td id=\"T_ea0ad_row6_col1\" class=\"data row6 col1\" >RUA SANTO ANDRE</td>\n",
       "      <td id=\"T_ea0ad_row6_col2\" class=\"data row6 col2\" >FARIA LIMA</td>\n",
       "      <td id=\"T_ea0ad_row6_col3\" class=\"data row6 col3\" >0.820694</td>\n",
       "    </tr>\n",
       "    <tr>\n",
       "      <th id=\"T_ea0ad_level0_row7\" class=\"row_heading level0 row7\" >7</th>\n",
       "      <td id=\"T_ea0ad_row7_col0\" class=\"data row7 col0\" >89259</td>\n",
       "      <td id=\"T_ea0ad_row7_col1\" class=\"data row7 col1\" >RUA SANTO ANDRE</td>\n",
       "      <td id=\"T_ea0ad_row7_col2\" class=\"data row7 col2\" >FARIA LIMA</td>\n",
       "      <td id=\"T_ea0ad_row7_col3\" class=\"data row7 col3\" >0.820694</td>\n",
       "    </tr>\n",
       "    <tr>\n",
       "      <th id=\"T_ea0ad_level0_row8\" class=\"row_heading level0 row8\" >8</th>\n",
       "      <td id=\"T_ea0ad_row8_col0\" class=\"data row8 col0\" >102325</td>\n",
       "      <td id=\"T_ea0ad_row8_col1\" class=\"data row8 col1\" > ADOLFO LUTZ</td>\n",
       "      <td id=\"T_ea0ad_row8_col2\" class=\"data row8 col2\" >PEREIRA COUTINHO</td>\n",
       "      <td id=\"T_ea0ad_row8_col3\" class=\"data row8 col3\" >0.820406</td>\n",
       "    </tr>\n",
       "    <tr>\n",
       "      <th id=\"T_ea0ad_level0_row9\" class=\"row_heading level0 row9\" >9</th>\n",
       "      <td id=\"T_ea0ad_row9_col0\" class=\"data row9 col0\" >513</td>\n",
       "      <td id=\"T_ea0ad_row9_col1\" class=\"data row9 col1\" >RUA MARLENE</td>\n",
       "      <td id=\"T_ea0ad_row9_col2\" class=\"data row9 col2\" >FARIA LIMA</td>\n",
       "      <td id=\"T_ea0ad_row9_col3\" class=\"data row9 col3\" >0.817635</td>\n",
       "    </tr>\n",
       "  </tbody>\n",
       "</table>\n"
      ],
      "text/plain": [
       "<pandas.io.formats.style.Styler at 0x18f7545a250>"
      ]
     },
     "execution_count": 22,
     "metadata": {},
     "output_type": "execute_result"
    }
   ],
   "source": [
    "# Reduzindo o df para apenas registros incongruentes\n",
    "CEP_validation = CEP_validation.query('api_validation == False').copy()\n",
    "\n",
    "# Definição do ponto de similaridade limite que será aceito como mesmo endereço. Este ponto foi encontrado visualente e poderia ser otmizado no futuro.\n",
    "CEP_validation_True = CEP_validation[CEP_validation['similarity']>0.821].copy()\n",
    "CEP_validation_False = CEP_validation[CEP_validation['similarity']<=0.821].copy()\n",
    "\n",
    "#Evidência de efetividade \n",
    "true_head = CEP_validation_True[['street','api_address_name', 'similarity']].sort_values(by=\"similarity\", ascending=True).head()\n",
    "false_head = CEP_validation_False[['street','api_address_name', 'similarity']].sort_values(by=\"similarity\", ascending=False).head()\n",
    "true_head.append(false_head).reset_index().style.apply(lambda x:['background: red' if x.name == 5 else '' for i in x], axis=1)"
   ]
  },
  {
   "cell_type": "code",
   "execution_count": 23,
   "id": "3b19dbeb-9334-4442-a4ec-05f5307e5cda",
   "metadata": {},
   "outputs": [],
   "source": [
    "# identifica os falso negativos\n",
    "false_negatives = listings['listing_id'].isin(CEP_validation_True['listing_id'].values)\n",
    "\n",
    "# corrige os valores classificados anteriormente\n",
    "listings.loc[false_negatives, 'api_validation'] = True"
   ]
  },
  {
   "cell_type": "markdown",
   "id": "4fe73845-435a-4d5f-8774-1037bfcd3eb1",
   "metadata": {},
   "source": [
    "## EXIBIÇÃO DE INFORMAÇÕES 📟\n",
    "Ainda que o anúncio possua todas as informações cadastradas, este ainda pode não ser classificado como tendo o **endereço completo** por não exibir todas as informações cadsatradas para os possíveis leads.\n",
    "> Portanto serão utilizados os campos de endereço e o registro de quais dados são exibidos para classificar os endereços em **_completo, nível de rua ou região_**</br>"
   ]
  },
  {
   "cell_type": "code",
   "execution_count": 24,
   "id": "7f8c5ad6-cf33-4d22-b52f-7ac1eba4a3f5",
   "metadata": {},
   "outputs": [],
   "source": [
    "# Construindo filtros\n",
    "\n",
    "# Endereço\n",
    "validated = listings[\"api_validation\"] == False\n",
    "no_cep = listings['CEP'].isnull()\n",
    "no_street = listings['street'].isnull()\n",
    "no_number = listings['street_number'].isnull()\n",
    "\n",
    "#Exibição\n",
    "disp_all = listings['display_address_type'] == \"ALL\"\n",
    "disp_street = listings['display_address_type'] == \"STREET\"\n",
    "disp_region = listings['display_address_type'] == \"NEIGHBORHOOD\""
   ]
  },
  {
   "cell_type": "code",
   "execution_count": 25,
   "id": "cd8a2edc-ec48-4da1-9624-33219a6af70b",
   "metadata": {},
   "outputs": [
    {
     "data": {
      "text/plain": [
       "Series([], Name: listing_id, dtype: int64)"
      ]
     },
     "execution_count": 25,
     "metadata": {},
     "output_type": "execute_result"
    }
   ],
   "source": [
    "#Construção de novos dataframes para conferência da lógica de reclassificação\n",
    "\n",
    "# (Possui, CEP, rua e número) E (exibe tudo). \n",
    "full_address = listings[disp_all & ~no_cep & ~no_street & ~no_number]\n",
    "\n",
    "# (Possui rua e CEP, mas não número e exibe tudo) OU (Possui rua e CEP e exibe até o nível de rua). \n",
    "full_street_address = listings[\n",
    "    ( (~no_street & ~no_cep  & disp_all & no_number)  \n",
    "    | (~no_street & ~no_cep & disp_street) \n",
    "    )]\n",
    "\n",
    "# (Possui rua, mas não CEP nem número e exibe tudo) OU (Possui rua, sem CEP e exibe até o nível de rua). \n",
    "street_name_address = listings[\n",
    "    ( (~no_street & no_cep & disp_all)  \n",
    "    | (~no_street & no_cep & disp_street) \n",
    "    )]\n",
    "\n",
    "# (Possui CEP, mas não rua nem número e exibe tudo) OU (Possui CEP, sem rua e exibe até o nível de rua). \n",
    "street_cep_address = listings[\n",
    "    ( (~no_cep & no_street & disp_all) \n",
    "    | (~no_cep & no_street & disp_street) \n",
    "    )]\n",
    "\n",
    "# (Exibe apenas o bairro) OU (não possui CEP ou não possui rua)\n",
    "region_address = listings[disp_region | (no_cep & no_street)]\n",
    "\n",
    "# Checando se a reclassificação é mutalamente exclusiva e coletivamente exaustiva\n",
    "teste = pd.concat([listings, full_address, full_street_address, street_name_address,street_cep_address, region_address])\n",
    "teste = teste['listing_id'].value_counts()\n",
    "\n",
    "# Caso haja um registro repetido mais de 2 vezes no df, os filtros realizados possuem alguma intersecção \n",
    "teste.loc[teste!=2]"
   ]
  },
  {
   "cell_type": "code",
   "execution_count": 26,
   "id": "3edd7a00-1376-43df-a93e-56b568939e04",
   "metadata": {},
   "outputs": [
    {
     "name": "stdout",
     "output_type": "stream",
     "text": [
      "{'ENDEREÇO COMPLETO': 21996, 'RUA': 401, 'BAIRRO': 85871}\n",
      " TOTAL:108268\n"
     ]
    }
   ],
   "source": [
    "# Cria dicionário com a tag de classificação de cada caso \n",
    "tags = {\"ENDEREÇO COMPLETO\": full_address, \n",
    "        \"RUA\" : full_street_address, \n",
    "        \"RUA\" : street_name_address,\n",
    "        \"RUA\" : street_cep_address,\n",
    "        \"BAIRRO\" : region_address}\n",
    "\n",
    "#Checar distribuição de registros\n",
    "resultado = {key : len(tags[key].values) for key in tags.keys()}\n",
    "print(f'{resultado}\\n TOTAL:{sum(list(resultado.values()))}')"
   ]
  },
  {
   "cell_type": "code",
   "execution_count": 27,
   "id": "b6fb3394-b70b-4d52-86af-15143dc1686b",
   "metadata": {},
   "outputs": [
    {
     "data": {
      "text/plain": [
       "RUA                  104255\n",
       "BAIRRO                85871\n",
       "ENDEREÇO COMPLETO     21996\n",
       "Name: address_info, dtype: int64"
      ]
     },
     "execution_count": 27,
     "metadata": {},
     "output_type": "execute_result"
    }
   ],
   "source": [
    "# Criar coluna de reclassificação\n",
    "\n",
    "ids = listings['listing_id']\n",
    "listings['address_info'] = \"RUA\"\n",
    "\n",
    "for key in tags.keys():\n",
    "    listings.loc[listings['listing_id'].isin(tags[key]['listing_id']),'address_info'] = key \n",
    "\n",
    "# Checa resultado\n",
    "listings['address_info'].value_counts()"
   ]
  },
  {
   "cell_type": "markdown",
   "id": "a6773885-9144-41f1-be50-8daac30a5cd7",
   "metadata": {},
   "source": [
    "## MAIS DADOS!🎲\n",
    "Para os próximos passos ter acesso à performance de cada anúncio pode ajudar."
   ]
  },
  {
   "cell_type": "code",
   "execution_count": 28,
   "id": "64fb8cb1-dc97-4309-b9dc-5b4ed0394b1d",
   "metadata": {},
   "outputs": [],
   "source": [
    "# Importa nova base e combina com atual \n",
    "leads = pd.read_csv('./leads.csv/leads.csv')\n",
    "merged = pd.merge(listings, leads, how ='left', on= 'listing_id')"
   ]
  },
  {
   "cell_type": "markdown",
   "id": "980fc6b0-65b7-4d5e-820b-a93a5b19d8ce",
   "metadata": {},
   "source": [
    "## TIPO DO ANÚNCIO 📰\n",
    "Este tópico tem como objetivo identificar e classficar os anúncios em **_\"Aluguel\"_** e **_\"Venda\"_**\n",
    "> Existem registros que não se encaixam na definição que classifica anúncios em Aluguel e Venda. </br>\n",
    "> A definição do tipo de anúncio impacta diretamente o valor percebido da oferta. </br>\n",
    "> Como esta percepção é fator importante na geração de **_leads_**, os anúncios que não se encaixam na defnição serão sinalizados "
   ]
  },
  {
   "cell_type": "code",
   "execution_count": 29,
   "id": "55e33092-1208-474f-9878-a08bc295b256",
   "metadata": {},
   "outputs": [
    {
     "data": {
      "text/html": [
       "<div>\n",
       "<style scoped>\n",
       "    .dataframe tbody tr th:only-of-type {\n",
       "        vertical-align: middle;\n",
       "    }\n",
       "\n",
       "    .dataframe tbody tr th {\n",
       "        vertical-align: top;\n",
       "    }\n",
       "\n",
       "    .dataframe thead th {\n",
       "        text-align: right;\n",
       "    }\n",
       "</style>\n",
       "<table border=\"1\" class=\"dataframe\">\n",
       "  <thead>\n",
       "    <tr style=\"text-align: right;\">\n",
       "      <th></th>\n",
       "      <th>count</th>\n",
       "      <th>mean</th>\n",
       "      <th>std</th>\n",
       "      <th>min</th>\n",
       "      <th>25%</th>\n",
       "      <th>50%</th>\n",
       "      <th>75%</th>\n",
       "      <th>max</th>\n",
       "    </tr>\n",
       "  </thead>\n",
       "  <tbody>\n",
       "    <tr>\n",
       "      <th>price</th>\n",
       "      <td>7947.0</td>\n",
       "      <td>4413.0</td>\n",
       "      <td>14764.0</td>\n",
       "      <td>370.0</td>\n",
       "      <td>863.0</td>\n",
       "      <td>1890.0</td>\n",
       "      <td>2629.0</td>\n",
       "      <td>119953.0</td>\n",
       "    </tr>\n",
       "  </tbody>\n",
       "</table>\n",
       "</div>"
      ],
      "text/plain": [
       "        count    mean      std    min    25%     50%     75%       max\n",
       "price  7947.0  4413.0  14764.0  370.0  863.0  1890.0  2629.0  119953.0"
      ]
     },
     "execution_count": 29,
     "metadata": {},
     "output_type": "execute_result"
    }
   ],
   "source": [
    "#Cria filtros baseado nas informações fornecidas (aluguel : 900 a 1500; venda: 120k+)\n",
    "renting = (merged['price']>=900) & (merged['price']<=1500)\n",
    "selling = (merged['price']>=120000)\n",
    "\n",
    "merged['listing_type'] = \"NÃO IDENTIFICADO\"\n",
    "\n",
    "merged.loc[renting,'listing_type'] = \"ALUGUEL\"\n",
    "merged.loc[selling,'listing_type'] = \"VENDA\"\n",
    "\n",
    "# Atribuios valores a um novo df para serem analisados\n",
    "no_list_cat = merged[~(renting | selling)].copy()\n",
    "\n",
    "# Distribuição dos valores de preço que não foram classificados\n",
    "no_list_cat[['price']].describe().round().T"
   ]
  },
  {
   "cell_type": "markdown",
   "id": "271cee5a-694e-4a32-925e-35dbaa00268d",
   "metadata": {},
   "source": [
    "### Takeaways\n",
    "> Existem valores consideravelmente diferentes dos fornecidos para classificação.</br>\n",
    "> Aparentemente a maior parte deles são relativos à Aluguel **_(mediana e média mais próximas de valores de aluguel do que de venda)_**.</br>\n",
    "> No entanto, estes valores tão divergentes podem ser resultados de erros de digitação. \n",
    "> Por isso, serão utilzados como critérios os valores de R\\\\$/$m^2$"
   ]
  },
  {
   "cell_type": "code",
   "execution_count": 30,
   "id": "f786a450-3843-4936-9f14-d0662c9877d6",
   "metadata": {},
   "outputs": [],
   "source": [
    "# Calcula o preço/metro2 de cada anúncio\n",
    "merged['price/m2'] = merged[['price', 'usable_areas']].apply(lambda x: (x[0]/x[1]) if x[1] != 0 else 0, axis=1 )\n",
    "no_list_cat['price/m2'] = no_list_cat[['price', 'usable_areas']].apply(lambda x: (x[0]/x[1]) if x[1] != 0 else 0, axis=1 )"
   ]
  },
  {
   "cell_type": "code",
   "execution_count": 31,
   "id": "146e59b3-304f-472b-87d2-b3d7bb803dc1",
   "metadata": {},
   "outputs": [
    {
     "data": {
      "image/png": "[encoded data removed]",
      "text/plain": [
       "<Figure size 720x360 with 1 Axes>"
      ]
     },
     "metadata": {
      "needs_background": "light"
     },
     "output_type": "display_data"
    }
   ],
   "source": [
    "# Plota anúncios não categorizados com base no preço absoluto e por m2\n",
    "fig, axs = plt.subplots(1,1, figsize=(10,5))\n",
    "sns.set_style('darkgrid')\n",
    "sns.scatterplot(y='price', x='price/m2', size =\"leads\" , sizes=(50, 300), hue='city', style='unit_type', data=no_list_cat)\n",
    "axs.set_title(\"ANÚNCIOS NÃO IDENTIFICADOS COMO ALUGUEL OU VENDA\")\n",
    "plt.legend(bbox_to_anchor=(1.05, 1));"
   ]
  },
  {
   "cell_type": "markdown",
   "id": "fd1ef9d7-c26f-426d-846c-ea709f226b5c",
   "metadata": {},
   "source": [
    ">_Nota-se que existem muitos pontos concentrados próximos à origem do gráfico, provavelmente referentes a aluguel e outros mais dispersos e próximos dos 120k._</br>\n",
    ">_Considerando estas \"concentrações\" como clusters, chama atenção o anúncio de melhor performance estar em uma região intermediária._ </br>\n",
    ">_Sendo este muito caro para um aluguel e muito barato para uma venda_ </br>\n",
    ">_Outro fato peculiar é a presença de kitnets entre os **_preços/$m^2$_**  mais caros do gráfico e com valores próximos aos de apartamentos na mesma região._</br>\n",
    "\n",
    "\n",
    "**Por conta da impossibilidade de se identificar com precisão estes casos, os anúncios serão segmentados com base nos valoees de m2 não outliers dos que já foram cadastrados**"
   ]
  },
  {
   "cell_type": "code",
   "execution_count": 32,
   "id": "957638f6-bd74-4cb6-9ec2-fbefaa05a170",
   "metadata": {},
   "outputs": [],
   "source": [
    "# Armazena os valores de R$/m2 outliers para os grupos dentro da dinficção do enunciado do problema\n",
    "\n",
    "out_rent = cF.HomeMadeStats(merged['price/m2'][renting]).outliers()\n",
    "out_sell = cF.HomeMadeStats(merged['price/m2'][selling]).outliers()\n",
    "\n",
    "\n",
    "# cria um novo dataframe com os anúncios que poderiam ser classificado como ALUGUEL com base no R$/m2\n",
    "rent = no_list_cat[( no_list_cat['price/m2'] >= out_rent['min']) \n",
    "                & ( no_list_cat['price/m2'] <= out_rent['max'])]\n",
    "\n",
    "\n",
    "# cria um novo dataframe com os anúncios que poderiam ser classificado como VENDA com base no R$/m2\n",
    "sell = no_list_cat[(no_list_cat['price/m2'] >= out_sell['min']) \n",
    "                & (no_list_cat['price/m2'] <= out_sell['max'])]\n",
    "\n",
    "# reclassifica anúncios que fora do padrão definido no enunciado do problema\n",
    "merged.loc[merged['listing_id'].isin(rent['listing_id']), 'listing_type'] = 'ALUGUEL'\n",
    "merged.loc[merged['listing_id'].isin(sell['listing_id']), 'listing_type'] = 'VENDA'"
   ]
  },
  {
   "cell_type": "code",
   "execution_count": 33,
   "id": "88ef5ff4-90f7-43a2-8d17-fec5e8f32781",
   "metadata": {},
   "outputs": [
    {
     "name": "stdout",
     "output_type": "stream",
     "text": [
      "Stored 'merged' (DataFrame)\n"
     ]
    }
   ],
   "source": [
    "#armazena o dataframe para utilização no próximo notebook\n",
    "%store merged"
   ]
  },
  {
   "cell_type": "code",
   "execution_count": 34,
   "id": "2e945c13-73ee-4fdc-a2ea-2238584bfd18",
   "metadata": {},
   "outputs": [],
   "source": [
    "# armazena o dataframe em um documento como contingência \n",
    "merged.to_csv('merged.csv', index=False)"
   ]
  },
  {
   "cell_type": "markdown",
   "id": "d9f015d9-e236-488c-9078-c8cb84853367",
   "metadata": {},
   "source": [
    "#### [VER ANÁLISE   $\\Rightarrow $](2_Analise.ipynb)"
   ]
  },
  {
   "cell_type": "code",
   "execution_count": null,
   "id": "a13ef520-f262-42ad-bcdc-a24c135b6288",
   "metadata": {},
   "outputs": [],
   "source": []
  }
 ],
 "metadata": {
  "kernelspec": {
   "display_name": "Python 3",
   "language": "python",
   "name": "python3"
  },
  "language_info": {
   "codemirror_mode": {
    "name": "ipython",
    "version": 3
   },
   "file_extension": ".py",
   "mimetype": "text/x-python",
   "name": "python",
   "nbconvert_exporter": "python",
   "pygments_lexer": "ipython3",
   "version": "3.9.5"
  }
 },
 "nbformat": 4,
 "nbformat_minor": 5
}
